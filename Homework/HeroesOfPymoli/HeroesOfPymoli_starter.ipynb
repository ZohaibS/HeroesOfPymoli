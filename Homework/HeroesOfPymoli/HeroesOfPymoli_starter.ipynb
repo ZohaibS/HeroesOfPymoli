{
 "cells": [
  {
   "cell_type": "markdown",
   "metadata": {},
   "source": [
    "### Heroes Of Pymoli Data Analysis\n",
    "* Of the 1163 active players, the vast majority are male (84%). There also exists, a smaller, but notable proportion of female players (14%).\n",
    "\n",
    "* Our peak age demographic falls between 20-24 (44.8%) with secondary groups falling between 15-19 (18.60%) and 25-29 (13.4%).  \n",
    "-----"
   ]
  },
  {
   "cell_type": "markdown",
   "metadata": {},
   "source": [
    "### Note\n",
    "* Instructions have been included for each segment. You do not have to follow them exactly, but they are included to help you think through the steps."
   ]
  },
  {
   "cell_type": "code",
   "execution_count": 151,
   "metadata": {},
   "outputs": [],
   "source": [
    "# Dependencies and Setup\n",
    "import pandas as pd\n",
    "import numpy as np\n",
    "\n",
    "# Raw data file\n",
    "raw_data_file = \"Resources/purchase_data.csv\"\n",
    "\n",
    "# Read purchasing file and store into pandas data frame\n",
    "purchase_data = pd.read_csv(raw_data_file)"
   ]
  },
  {
   "cell_type": "markdown",
   "metadata": {},
   "source": [
    "## Player Count"
   ]
  },
  {
   "cell_type": "markdown",
   "metadata": {},
   "source": [
    "* Display the total number of players\n"
   ]
  },
  {
   "cell_type": "code",
   "execution_count": 152,
   "metadata": {},
   "outputs": [
    {
     "name": "stdout",
     "output_type": "stream",
     "text": [
      "   Total Number of Players\n",
      "0                      576\n"
     ]
    }
   ],
   "source": [
    "count = len(purchase_data[\"SN\"].value_counts())\n",
    "print(pd.DataFrame([count], columns = [\"Total Number of Players\"]))"
   ]
  },
  {
   "cell_type": "markdown",
   "metadata": {},
   "source": [
    "## Purchasing Analysis (Total)"
   ]
  },
  {
   "cell_type": "markdown",
   "metadata": {},
   "source": [
    "* Run basic calculations to obtain number of unique items, average price, etc.\n",
    "\n",
    "\n",
    "* Create a summary data frame to hold the results\n",
    "\n",
    "\n",
    "* Optional: give the displayed data cleaner formatting\n",
    "\n",
    "\n",
    "* Display the summary data frame\n"
   ]
  },
  {
   "cell_type": "code",
   "execution_count": 153,
   "metadata": {
    "scrolled": true
   },
   "outputs": [
    {
     "name": "stdout",
     "output_type": "stream",
     "text": [
      "   Quantity of Unique Items Average Price  Quantity of Purchases Total Revenue\n",
      "0                       183         $3.05                    780      $2379.77\n"
     ]
    }
   ],
   "source": [
    "distinct_items = len(purchase_data[\"Item ID\"].value_counts())\n",
    "\n",
    "cash = float(str(round(purchase_data[\"Price\"].sum(), 2)))\n",
    "\n",
    "n = float(str(round(purchase_data[\"Price\"].count())))\n",
    "\n",
    "mu = round(cash / n, 2)\n",
    "\n",
    "#\\\\\\\\\\\\\\\\\n",
    "#Analysis\n",
    "#\\\\\\\\\\\\\\\\\n",
    "\n",
    "#Constructing a Blank Slate\n",
    "analyzecashflow = []\n",
    "\n",
    "#Filling the Blank Slate\n",
    "analyzecashflow.append(int(distinct_items))\n",
    "analyzecashflow.append( \"$\" + str(mu))\n",
    "analyzecashflow.append(int(n))\n",
    "analyzecashflow.append( \"$\" + str(cash))\n",
    "\n",
    "#Oh look. Our slates evolving.\n",
    "evolution = pd.DataFrame([analyzecashflow], columns = [\"Quantity of Unique Items\", \"Average Price\", \"Quantity of Purchases\", \"Total Revenue\"])\n",
    "\n",
    "print(evolution)"
   ]
  },
  {
   "cell_type": "markdown",
   "metadata": {},
   "source": [
    "## Gender Demographics"
   ]
  },
  {
   "cell_type": "markdown",
   "metadata": {},
   "source": [
    "* Percentage and Count of Male Players\n",
    "\n",
    "\n",
    "* Percentage and Count of Female Players\n",
    "\n",
    "\n",
    "* Percentage and Count of Other / Non-Disclosed\n",
    "\n",
    "\n"
   ]
  },
  {
   "cell_type": "code",
   "execution_count": 154,
   "metadata": {},
   "outputs": [
    {
     "name": "stdout",
     "output_type": "stream",
     "text": [
      "        Percentage of Players  Total\n",
      "Male                    84.03    484\n",
      "Female                  14.06     81\n",
      "Other                    1.91     11\n"
     ]
    }
   ],
   "source": [
    "gender_group = purchase_data[[\"SN\", \"Gender\"]]\n",
    "gender_group = gender_group.drop_duplicates()\n",
    "\n",
    "counts = gender_group[\"Gender\"].value_counts()\n",
    "\n",
    "countz = [counts[0], counts[1], counts[2]]\n",
    "\n",
    "sigma = [round(counts[0] / (counts[0] + counts[1] + counts[2]) * 100, 2), round(counts[1] / (counts[0] + counts[1] + counts[2]) * 100, 2), round(counts[2] / (counts[0] + counts[1] + counts[2]) * 100, 2)]\n",
    "\n",
    "gender_frame = pd.DataFrame({\"Percentage of Players\" : sigma, \"Total\" : countz})\n",
    "\n",
    "gender_frame.index = ([\"Male\", \"Female\", \"Other\"])\n",
    "\n",
    "print(gender_frame)"
   ]
  },
  {
   "cell_type": "markdown",
   "metadata": {},
   "source": [
    "\n",
    "## Purchasing Analysis (Gender)"
   ]
  },
  {
   "cell_type": "markdown",
   "metadata": {},
   "source": [
    "* Run basic calculations to obtain purchase count, avg. purchase price, avg. purchase total per person etc. by gender\n",
    "\n",
    "\n",
    "\n",
    "\n",
    "* Create a summary data frame to hold the results\n",
    "\n",
    "\n",
    "* Optional: give the displayed data cleaner formatting\n",
    "\n",
    "\n",
    "* Display the summary data frame"
   ]
  },
  {
   "cell_type": "code",
   "execution_count": 156,
   "metadata": {},
   "outputs": [],
   "source": [
    "gendergroups = purchase_data[[\"SN\",\"Gender\",\"Price\"]]\n",
    "gcount = gendergroups[\"Gender\"].value_counts()\n",
    "\n",
    "\n",
    "#Counting Purchases\n",
    "pcount = [gcount[0], gcount[1], gcount[2]]\n",
    "\n",
    "gendergroups = gendergroups.groupby(\"Gender\")\n",
    "totall = gendergroups.sum()\n",
    "totall\n",
    "\n",
    "#Total Value\n",
    "gtotal = [totall.iloc[1,0], totall.iloc[0,0], totall.iloc[2,0]]\n",
    "\n",
    "#Average Purchase Price\n",
    "gmean = [totall.iloc[1,0]/gcount[0], totall.iloc[0,0]/gcount[1], totall.iloc[2,0]/gcount[2]]\n",
    "\n",
    "#Constructing DataFrame\n",
    "analyzeG = pd.DataFrame({\"Number of Purchases\": pcount, \"Average Purchase Price\": gmean, \"Total Value\": gtotal, \"Gender\": [\"Male\", \"Female\", \"Other / Non-Disclosed\"]})\n"
   ]
  },
  {
   "cell_type": "markdown",
   "metadata": {},
   "source": [
    "## Age Demographics"
   ]
  },
  {
   "cell_type": "markdown",
   "metadata": {},
   "source": [
    "* Establish bins for ages\n",
    "\n",
    "\n",
    "* Categorize the existing players using the age bins. Hint: use pd.cut()\n",
    "\n",
    "\n",
    "* Calculate the numbers and percentages by age group\n",
    "\n",
    "\n",
    "* Create a summary data frame to hold the results\n",
    "\n",
    "\n",
    "* Optional: round the percentage column to two decimal points\n",
    "\n",
    "\n",
    "* Display Age Demographics Table\n"
   ]
  },
  {
   "cell_type": "code",
   "execution_count": 157,
   "metadata": {},
   "outputs": [
    {
     "data": {
      "text/plain": [
       "(19.9, 24.9]       365\n",
       "(14.9, 19.9]       136\n",
       "(24.9, 29.9]       101\n",
       "(29.9, 34.9]        73\n",
       "(34.9, 39.9]        41\n",
       "(9.9, 14.9]         28\n",
       "(0.0, 9.9]          23\n",
       "(39.9, 99999.0]     13\n",
       "Name: Age, dtype: int64"
      ]
     },
     "execution_count": 157,
     "metadata": {},
     "output_type": "execute_result"
    }
   ],
   "source": [
    "# Establish bins for ages\n",
    "age_bins = [0, 9.90, 14.90, 19.90, 24.90, 29.90, 34.90, 39.90, 99999]\n",
    "group_names = [\"<10\", \"10-14\", \"15-19\", \"20-24\", \"25-29\", \"30-34\", \"35-39\", \"40+\"]\n",
    "\n",
    "pd.cut(purchase_data[\"Age\"] , age_bins).value_counts()"
   ]
  },
  {
   "cell_type": "markdown",
   "metadata": {},
   "source": [
    "## Purchasing Analysis (Age)"
   ]
  },
  {
   "cell_type": "markdown",
   "metadata": {},
   "source": [
    "* Bin the purchase_data data frame by age\n",
    "\n",
    "\n",
    "* Run basic calculations to obtain purchase count, avg. purchase price, avg. purchase total per person etc. in the table below\n",
    "\n",
    "\n",
    "* Create a summary data frame to hold the results\n",
    "\n",
    "\n",
    "* Optional: give the displayed data cleaner formatting\n",
    "\n",
    "\n",
    "* Display the summary data frame"
   ]
  },
  {
   "cell_type": "code",
   "execution_count": 158,
   "metadata": {},
   "outputs": [
    {
     "name": "stdout",
     "output_type": "stream",
     "text": [
      "           Quantity of Purchases  Average Purchase Price  \\\n",
      "<10                           23                    3.35   \n",
      "10-14                         28                    2.96   \n",
      "15-19                        136                    3.04   \n",
      "20-24                        365                    3.05   \n",
      "25-29                        101                    2.90   \n",
      "30-34                         73                    2.93   \n",
      "35-40                         41                    3.60   \n",
      "40 and up                     13                    2.94   \n",
      "\n",
      "           Purchase Total Amount  \n",
      "<10                        77.13  \n",
      "10-14                      82.78  \n",
      "15-19                     412.89  \n",
      "20-24                    1114.06  \n",
      "25-29                     293.00  \n",
      "30-34                     214.00  \n",
      "35-40                     147.67  \n",
      "40 and up                  38.24  \n"
     ]
    }
   ],
   "source": [
    "#Purchase Info\n",
    "purchases_10 = purchase_data[purchase_data[\"Age\"] < 10].count()[0]\n",
    "purchases_14 = purchase_data[(purchase_data[\"Age\"] >= 10) & (purchase_data[\"Age\"] <= 14)].count()[0]\n",
    "purchases_19 = purchase_data[(purchase_data[\"Age\"] >= 15) & (purchase_data[\"Age\"] <= 19)].count()[0]\n",
    "purchases_24 = purchase_data[(purchase_data[\"Age\"] >= 20) & (purchase_data[\"Age\"] <= 24)].count()[0]\n",
    "purchases_29 = purchase_data[(purchase_data[\"Age\"] >= 25) & (purchase_data[\"Age\"] <= 29)].count()[0]\n",
    "purchases_34 = purchase_data[(purchase_data[\"Age\"] >= 30) & (purchase_data[\"Age\"] <= 34)].count()[0]\n",
    "purchases_39 = purchase_data[(purchase_data[\"Age\"] >= 35) & (purchase_data[\"Age\"] <= 39)].count()[0]\n",
    "purchases_40 = purchase_data[purchase_data[\"Age\"] >= 40].count()[0]\n",
    "purchasez = [purchases_10, purchases_14, purchases_19, purchases_24, purchases_29, purchases_34, purchases_39, purchases_40]\n",
    "\n",
    "#Purchase Totals (Part 1)\n",
    "totals_10 = purchase_data.loc[purchase_data['Age'] < 10, 'Price'].sum()\n",
    "totals_14 = purchase_data.loc[(purchase_data['Age'] >= 10) & (purchase_data['Age'] <=14), 'Price'].sum()\n",
    "totals_19 = purchase_data.loc[(purchase_data['Age'] >= 15) & (purchase_data['Age'] <=19), 'Price'].sum()\n",
    "totals_24 = purchase_data.loc[(purchase_data['Age'] >= 20) & (purchase_data['Age'] <=24), 'Price'].sum()\n",
    "totals_29 = purchase_data.loc[(purchase_data['Age'] >= 25) & (purchase_data['Age'] <=29), 'Price'].sum()\n",
    "totals_34 = purchase_data.loc[(purchase_data['Age'] >= 30) & (purchase_data['Age'] <=34), 'Price'].sum()\n",
    "totals_39 = purchase_data.loc[(purchase_data['Age'] >= 35) & (purchase_data['Age'] <=39), 'Price'].sum()\n",
    "totals_40 = purchase_data.loc[purchase_data['Age'] >= 40, 'Price'].sum()\n",
    "totalz = [totals_10, totals_14, totals_19, totals_24, totals_29, totals_34, totals_39, totals_40]\n",
    "\n",
    "#Mean\n",
    "mu_0 = [round(totals_10/purchases_10, 2), round(totals_14/purchases_14, 2), round(totals_19/purchases_19, 2), round(totals_24/purchases_24, 2), round(totals_29/purchases_29, 2),\n",
    "              round(totals_34/purchases_34, 2), round(totals_39/purchases_39, 2), round(totals_40/purchases_40, 2)]\n",
    "\n",
    "#A Dictionary\n",
    "cashflowbyage = {\"Quantity of Purchases\" : purchasez, \"Average Purchase Price\" : mu_0, \"Purchase Total Amount\" : totalz}\n",
    "\n",
    "newdf = pd.DataFrame(cashflowbyage)\n",
    "newdf = newdf[[\"Quantity of Purchases\", \"Average Purchase Price\", \"Purchase Total Amount\"]]\n",
    "\n",
    "newdf.index = ([\"<10\", \"10-14\", \"15-19\", \"20-24\", \"25-29\", \"30-34\", \"35-40\", \"40 and up\"])\n",
    "\n",
    "print(newdf)"
   ]
  },
  {
   "cell_type": "markdown",
   "metadata": {},
   "source": [
    "## Top Spenders"
   ]
  },
  {
   "cell_type": "markdown",
   "metadata": {},
   "source": [
    "* Run basic calculations to obtain the results in the table below\n",
    "\n",
    "\n",
    "* Create a summary data frame to hold the results\n",
    "\n",
    "\n",
    "* Sort the total purchase value column in descending order\n",
    "\n",
    "\n",
    "* Optional: give the displayed data cleaner formatting\n",
    "\n",
    "\n",
    "* Display a preview of the summary data frame\n",
    "\n"
   ]
  },
  {
   "cell_type": "code",
   "execution_count": 159,
   "metadata": {},
   "outputs": [
    {
     "data": {
      "text/html": [
       "<div>\n",
       "<style scoped>\n",
       "    .dataframe tbody tr th:only-of-type {\n",
       "        vertical-align: middle;\n",
       "    }\n",
       "\n",
       "    .dataframe tbody tr th {\n",
       "        vertical-align: top;\n",
       "    }\n",
       "\n",
       "    .dataframe thead th {\n",
       "        text-align: right;\n",
       "    }\n",
       "</style>\n",
       "<table border=\"1\" class=\"dataframe\">\n",
       "  <thead>\n",
       "    <tr style=\"text-align: right;\">\n",
       "      <th></th>\n",
       "      <th>Number of Purchases</th>\n",
       "      <th>Average Purchase Price</th>\n",
       "      <th>Total Value of Purchases</th>\n",
       "    </tr>\n",
       "    <tr>\n",
       "      <th>SN</th>\n",
       "      <th></th>\n",
       "      <th></th>\n",
       "      <th></th>\n",
       "    </tr>\n",
       "  </thead>\n",
       "  <tbody>\n",
       "    <tr>\n",
       "      <th>Lisosia93</th>\n",
       "      <td>5</td>\n",
       "      <td>3.79</td>\n",
       "      <td>18.96</td>\n",
       "    </tr>\n",
       "    <tr>\n",
       "      <th>Idastidru52</th>\n",
       "      <td>4</td>\n",
       "      <td>3.86</td>\n",
       "      <td>15.45</td>\n",
       "    </tr>\n",
       "    <tr>\n",
       "      <th>Chamjask73</th>\n",
       "      <td>3</td>\n",
       "      <td>4.61</td>\n",
       "      <td>13.83</td>\n",
       "    </tr>\n",
       "    <tr>\n",
       "      <th>Iral74</th>\n",
       "      <td>4</td>\n",
       "      <td>3.40</td>\n",
       "      <td>13.62</td>\n",
       "    </tr>\n",
       "    <tr>\n",
       "      <th>Iskadarya95</th>\n",
       "      <td>3</td>\n",
       "      <td>4.37</td>\n",
       "      <td>13.10</td>\n",
       "    </tr>\n",
       "  </tbody>\n",
       "</table>\n",
       "</div>"
      ],
      "text/plain": [
       "             Number of Purchases  Average Purchase Price  \\\n",
       "SN                                                         \n",
       "Lisosia93                      5                    3.79   \n",
       "Idastidru52                    4                    3.86   \n",
       "Chamjask73                     3                    4.61   \n",
       "Iral74                         4                    3.40   \n",
       "Iskadarya95                    3                    4.37   \n",
       "\n",
       "             Total Value of Purchases  \n",
       "SN                                     \n",
       "Lisosia93                       18.96  \n",
       "Idastidru52                     15.45  \n",
       "Chamjask73                      13.83  \n",
       "Iral74                          13.62  \n",
       "Iskadarya95                     13.10  "
      ]
     },
     "execution_count": 159,
     "metadata": {},
     "output_type": "execute_result"
    }
   ],
   "source": [
    "dfx = purchase_data[[\"SN\", \"Price\", \"Item Name\"]]\n",
    "\n",
    "totalq = dfx.groupby(\"SN\").sum()\n",
    "\n",
    "#LazySort\n",
    "totalq.sort_values(by = \"Price\", ascending = False, inplace = True)\n",
    "\n",
    "#Top Five\n",
    "named = list(totalq.index.values)\n",
    "top5 = [named[0], named[1], named[2], named[3], named[4]]\n",
    "\n",
    "#Purchase Totals (Part 2)\n",
    "ptotal1 = totalq.iloc[0, 0]\n",
    "ptotal2 = totalq.iloc[1, 0]\n",
    "ptotal3 = totalq.iloc[2, 0]\n",
    "ptotal4 = totalq.iloc[3, 0]\n",
    "ptotal5 = totalq.iloc[4, 0]\n",
    "ToTal = [totalq.iloc[0, 0], totalq.iloc[1, 0], totalq.iloc[2, 0], totalq.iloc[3, 0], totalq.iloc[4, 0]]\n",
    "\n",
    "#Purchase Counter\n",
    "xtotal1 = dfx[dfx[\"SN\"] == named[0]].count()[0]\n",
    "xtotal2 = dfx[dfx[\"SN\"] == named[1]].count()[0]\n",
    "xtotal3 = dfx[dfx[\"SN\"] == named[2]].count()[0]\n",
    "xtotal4 = dfx[dfx[\"SN\"] == named[3]].count()[0]\n",
    "xtotal5 = dfx[dfx[\"SN\"] == named[4]].count()[0]\n",
    "xtotalx = [xtotal1, xtotal2, xtotal3, xtotal4, xtotal5]\n",
    "\n",
    "#Averages\n",
    "Mu1 = round(ptotal1/xtotal1, 2)\n",
    "Mu2 = round(ptotal2/xtotal2, 2)\n",
    "Mu3 = round(ptotal3/xtotal3, 2)\n",
    "Mu4 = round(ptotal4/xtotal4, 2)\n",
    "Mu5 = round(ptotal5/xtotal5, 2)\n",
    "Mux = [Mu1, Mu2, Mu3, Mu4, Mu5]\n",
    "\n",
    "#Another Dictionary\n",
    "xdict = {\"Number of Purchases\": xtotalx, \"Average Purchase Price\": Mux, \"Total Value of Purchases\": ToTal, \"SN\": top5}\n",
    "\n",
    "#Another DataFrame\n",
    "dee_eff = pd.DataFrame(xdict)\n",
    "dee_eff = dee_eff.set_index(\"SN\")\n",
    "dee_eff = dee_eff[[\"Number of Purchases\", \"Average Purchase Price\", \"Total Value of Purchases\"]]\n",
    "\n",
    "dee_eff"
   ]
  },
  {
   "cell_type": "markdown",
   "metadata": {},
   "source": [
    "## Most Popular Items"
   ]
  },
  {
   "cell_type": "markdown",
   "metadata": {},
   "source": [
    "* Retrieve the Item ID, Item Name, and Item Price columns\n",
    "\n",
    "\n",
    "* Group by Item ID and Item Name. Perform calculations to obtain purchase count, item price, and total purchase value\n",
    "\n",
    "\n",
    "* Create a summary data frame to hold the results\n",
    "\n",
    "\n",
    "* Sort the purchase count column in descending order\n",
    "\n",
    "\n",
    "* Optional: give the displayed data cleaner formatting\n",
    "\n",
    "\n",
    "* Display a preview of the summary data frame\n",
    "\n"
   ]
  },
  {
   "cell_type": "code",
   "execution_count": 160,
   "metadata": {},
   "outputs": [
    {
     "name": "stdout",
     "output_type": "stream",
     "text": [
      "                                                      Purchase Count  \\\n",
      "Item ID Item Name                                                      \n",
      "178     Oathbreaker, Last Hope of the Breaking Storm              12   \n",
      "145     Fiery Glass Crusader                                       9   \n",
      "108     Extraction, Quickblade Of Trembling Hands                  9   \n",
      "82      Nirvana                                                    9   \n",
      "19      Pursuit, Cudgel of Necromancy                              8   \n",
      "\n",
      "                                                      Item Price  \\\n",
      "Item ID Item Name                                                  \n",
      "178     Oathbreaker, Last Hope of the Breaking Storm        4.23   \n",
      "145     Fiery Glass Crusader                                4.58   \n",
      "108     Extraction, Quickblade Of Trembling Hands           3.53   \n",
      "82      Nirvana                                             4.90   \n",
      "19      Pursuit, Cudgel of Necromancy                       1.02   \n",
      "\n",
      "                                                      Total Purchase Value  \n",
      "Item ID Item Name                                                           \n",
      "178     Oathbreaker, Last Hope of the Breaking Storm                 50.76  \n",
      "145     Fiery Glass Crusader                                         41.22  \n",
      "108     Extraction, Quickblade Of Trembling Hands                    31.77  \n",
      "82      Nirvana                                                      44.10  \n",
      "19      Pursuit, Cudgel of Necromancy                                 8.16  \n"
     ]
    }
   ],
   "source": [
    "dfy = purchase_data[[\"Item ID\", \"Item Name\", \"Price\"]]\n",
    "\n",
    "theywant = dfy.groupby(\"Item ID\").count()\n",
    "theywant.sort_values(by = \"Item Name\", ascending = False, inplace = True)\n",
    "\n",
    "\n",
    "dfy = dfy.drop_duplicates([\"Item ID\", \"Item Name\"])\n",
    "\n",
    "item_X = [theywant.index[0], theywant.index[1], theywant.index[2], theywant.index[3], theywant.index[4]]\n",
    "\n",
    "#Names\n",
    "name1 = dfy.loc[dfy[\"Item ID\"] == item_X[0], \"Item Name\"].item()\n",
    "name2 = dfy.loc[dfy[\"Item ID\"] == item_X[1], \"Item Name\"].item()\n",
    "name3 = dfy.loc[dfy[\"Item ID\"] == item_X[2], \"Item Name\"].item()\n",
    "name4 = dfy.loc[dfy[\"Item ID\"] == item_X[3], \"Item Name\"].item()\n",
    "name5 = dfy.loc[dfy[\"Item ID\"] == item_X[4], \"Item Name\"].item()\n",
    "theywantitems = [name1, name2, name3, name4, name5]\n",
    "\n",
    "#More Counts\n",
    "counter = [theywant.iloc[0,0], theywant.iloc[1,0], theywant.iloc[2,0], theywant.iloc[3,0], theywant.iloc[4,0]]\n",
    "\n",
    "#Prices\n",
    "p1 = dfy.loc[dfy[\"Item Name\"] == theywantitems[0], \"Price\"].item()\n",
    "p2 = dfy.loc[dfy[\"Item Name\"] == theywantitems[1], \"Price\"].item()\n",
    "p3 = dfy.loc[dfy[\"Item Name\"] == theywantitems[2], \"Price\"].item()\n",
    "p4 = dfy.loc[dfy[\"Item Name\"] == theywantitems[3], \"Price\"].item()\n",
    "p5 = dfy.loc[dfy[\"Item Name\"] == theywantitems[4], \"Price\"].item()\n",
    "pitems = [p1,p2,p3,p4,p5]\n",
    "\n",
    "#Total Value\n",
    "value = [theywant.iloc[0,0]*p1, theywant.iloc[1,0]*p2, theywant.iloc[2,0]*p3, \n",
    "                theywant.iloc[3,0]*p4, theywant.iloc[4,0]*p5]\n",
    "\n",
    "# Creating DataFrame & setting index\n",
    "delta_phi = pd.DataFrame({\"Item ID\": item_X, \"Item Name\": theywantitems, \"Purchase Count\": counter, \"Item Price\": pitems, \"Total Purchase Value\": value})\n",
    "\n",
    "#As you may or may not have noticed, I'm running out of imagination for names for DataFrames. I will be more mindful in the future from the very start.\n",
    "delta_phi = delta_phi.set_index([\"Item ID\", \"Item Name\"])\n",
    "delta_phi = delta_phi[[\"Purchase Count\", \"Item Price\", \"Total Purchase Value\"]]\n",
    "\n",
    "print(delta_phi)"
   ]
  },
  {
   "cell_type": "markdown",
   "metadata": {},
   "source": [
    "## Most Profitable Items"
   ]
  },
  {
   "cell_type": "markdown",
   "metadata": {},
   "source": [
    "* Sort the above table by total purchase value in descending order\n",
    "\n",
    "\n",
    "* Optional: give the displayed data cleaner formatting\n",
    "\n",
    "\n",
    "* Display a preview of the data frame\n",
    "\n"
   ]
  },
  {
   "cell_type": "code",
   "execution_count": 161,
   "metadata": {
    "scrolled": true
   },
   "outputs": [
    {
     "data": {
      "text/html": [
       "<div>\n",
       "<style scoped>\n",
       "    .dataframe tbody tr th:only-of-type {\n",
       "        vertical-align: middle;\n",
       "    }\n",
       "\n",
       "    .dataframe tbody tr th {\n",
       "        vertical-align: top;\n",
       "    }\n",
       "\n",
       "    .dataframe thead th {\n",
       "        text-align: right;\n",
       "    }\n",
       "</style>\n",
       "<table border=\"1\" class=\"dataframe\">\n",
       "  <thead>\n",
       "    <tr style=\"text-align: right;\">\n",
       "      <th></th>\n",
       "      <th>Item ID</th>\n",
       "      <th>Name</th>\n",
       "      <th>Number Purchased</th>\n",
       "      <th>Price</th>\n",
       "      <th>Total Value</th>\n",
       "    </tr>\n",
       "  </thead>\n",
       "  <tbody>\n",
       "    <tr>\n",
       "      <th>0</th>\n",
       "      <td>178</td>\n",
       "      <td>Oathbreaker, Last Hope of the Breaking Storm</td>\n",
       "      <td>12</td>\n",
       "      <td>4.23</td>\n",
       "      <td>50.76</td>\n",
       "    </tr>\n",
       "    <tr>\n",
       "      <th>1</th>\n",
       "      <td>82</td>\n",
       "      <td>Nirvana</td>\n",
       "      <td>9</td>\n",
       "      <td>4.90</td>\n",
       "      <td>44.10</td>\n",
       "    </tr>\n",
       "    <tr>\n",
       "      <th>2</th>\n",
       "      <td>145</td>\n",
       "      <td>Fiery Glass Crusader</td>\n",
       "      <td>9</td>\n",
       "      <td>4.58</td>\n",
       "      <td>41.22</td>\n",
       "    </tr>\n",
       "    <tr>\n",
       "      <th>3</th>\n",
       "      <td>92</td>\n",
       "      <td>Final Critic</td>\n",
       "      <td>13</td>\n",
       "      <td>4.88</td>\n",
       "      <td>39.04</td>\n",
       "    </tr>\n",
       "    <tr>\n",
       "      <th>4</th>\n",
       "      <td>103</td>\n",
       "      <td>Singed Scalpel</td>\n",
       "      <td>8</td>\n",
       "      <td>4.35</td>\n",
       "      <td>34.80</td>\n",
       "    </tr>\n",
       "  </tbody>\n",
       "</table>\n",
       "</div>"
      ],
      "text/plain": [
       "   Item ID                                          Name  Number Purchased  \\\n",
       "0      178  Oathbreaker, Last Hope of the Breaking Storm                12   \n",
       "1       82                                       Nirvana                 9   \n",
       "2      145                          Fiery Glass Crusader                 9   \n",
       "3       92                                  Final Critic                13   \n",
       "4      103                                Singed Scalpel                 8   \n",
       "\n",
       "   Price  Total Value  \n",
       "0   4.23        50.76  \n",
       "1   4.90        44.10  \n",
       "2   4.58        41.22  \n",
       "3   4.88        39.04  \n",
       "4   4.35        34.80  "
      ]
     },
     "execution_count": 161,
     "metadata": {},
     "output_type": "execute_result"
    }
   ],
   "source": [
    "dfz = purchase_data[[\"Item ID\", \"Item Name\", \"Price\"]]\n",
    "iprofit = dfz.groupby(\"Item ID\").sum()\n",
    "iprofit.sort_values(by = \"Price\", ascending = False, inplace = True)\n",
    "dfz = dfz.drop_duplicates([\"Item ID\", \"Price\"])\n",
    "\n",
    "itemID = [iprofit.index[0], iprofit.index[1], iprofit.index[2], iprofit.index[3], iprofit.index[4]]\n",
    "\n",
    "#Item nAmes\n",
    "nAme1 = dfz.loc[dfz[\"Item ID\"] == itemID[0], \"Item Name\"].item()\n",
    "nAme2 = dfz.loc[dfz[\"Item ID\"] == itemID[1], \"Item Name\"].item()\n",
    "nAme3 = dfz.loc[dfz[\"Item ID\"] == itemID[2], \"Item Name\"].item()\n",
    "nAme4 = dfz.loc[dfz[\"Item ID\"] == itemID[3], \"Item Name\"].item()\n",
    "nAme5 = dfz.loc[dfz[\"Item ID\"] == itemID[4], \"Item Name\"].item()\n",
    "nAmeP = [nAme1, nAme2, nAme3, nAme4, nAme5]\n",
    "\n",
    "# Total Value\n",
    "valuez = [iprofit.iloc[0,0], iprofit.iloc[1,0], iprofit.iloc[2,0], iprofit.iloc[3,0], iprofit.iloc[4,0]]\n",
    "\n",
    "#secirP      \n",
    "p1p = dfz.loc[dfz[\"Item ID\"] == itemID[0], \"Price\"].item()\n",
    "p2p = dfz.loc[dfz[\"Item ID\"] == itemID[1], \"Price\"].item()\n",
    "p3p = dfz.loc[dfz[\"Item ID\"] == itemID[2], \"Price\"].item()\n",
    "p4p = dfz.loc[dfz[\"Item ID\"] == itemID[3], \"Price\"].item()\n",
    "p5p = dfz.loc[dfz[\"Item ID\"] == itemID[4], \"Price\"].item()\n",
    "itemsp = [p1p, p2p, p3p, p4p, p5p]\n",
    "\n",
    "#Counting Purchases\n",
    "dfq = purchase_data[[\"Item ID\", \"Item Name\", \"Price\"]].groupby(\"Item Name\").count()\n",
    "co1nt = dfq.loc[dfq.index == nAmeP[0], \"Item ID\"].item()\n",
    "co2nt = dfq.loc[dfq.index == nAmeP[1], \"Item ID\"].item()\n",
    "co3nt = dfq.loc[dfq.index == nAmeP[2], \"Item ID\"].item()\n",
    "co4nt = dfq.loc[dfq.index == nAmeP[3], \"Item ID\"].item()\n",
    "co5nt = dfq.loc[dfq.index == nAmeP[4], \"Item ID\"].item()\n",
    "Count = [co1nt, co2nt, co3nt, co4nt, co5nt]\n",
    "\n",
    "#Final DataFrame\n",
    "profitz = pd.DataFrame({\"Item ID\": itemID, \"Name\": nAmeP, \"Number Purchased\": Count, \"Price\": itemsp, \"Total Value\": valuez})\n",
    "\n",
    "profitz"
   ]
  },
  {
   "cell_type": "code",
   "execution_count": null,
   "metadata": {},
   "outputs": [],
   "source": []
  },
  {
   "cell_type": "code",
   "execution_count": null,
   "metadata": {},
   "outputs": [],
   "source": []
  }
 ],
 "metadata": {
  "anaconda-cloud": {},
  "kernel_info": {
   "name": "python3"
  },
  "kernelspec": {
   "display_name": "Python 3",
   "language": "python",
   "name": "python3"
  },
  "language_info": {
   "codemirror_mode": {
    "name": "ipython",
    "version": 3
   },
   "file_extension": ".py",
   "mimetype": "text/x-python",
   "name": "python",
   "nbconvert_exporter": "python",
   "pygments_lexer": "ipython3",
   "version": "3.6.4"
  },
  "nteract": {
   "version": "0.8.4"
  }
 },
 "nbformat": 4,
 "nbformat_minor": 1
}
